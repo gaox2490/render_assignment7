{
 "cells": [
  {
   "cell_type": "code",
   "execution_count": 93,
   "id": "a34444e1-7934-42e5-9b01-666fe67f726b",
   "metadata": {},
   "outputs": [],
   "source": [
    "import dash\n",
    "from dash import dcc, html\n",
    "import plotly.express as px\n",
    "import pandas as pd"
   ]
  },
  {
   "cell_type": "code",
   "execution_count": 170,
   "id": "2bd411bc-6bc5-4945-9184-7a00182192c4",
   "metadata": {},
   "outputs": [
    {
     "data": {
      "text/html": [
       "\n",
       "        <iframe\n",
       "            width=\"100%\"\n",
       "            height=\"650\"\n",
       "            src=\"http://127.0.0.1:8053/\"\n",
       "            frameborder=\"0\"\n",
       "            allowfullscreen\n",
       "            \n",
       "        ></iframe>\n",
       "        "
      ],
      "text/plain": [
       "<IPython.lib.display.IFrame at 0x1517e1f40>"
      ]
     },
     "metadata": {},
     "output_type": "display_data"
    }
   ],
   "source": [
    "df = pd.DataFrame({\n",
    "    'Year': [1930, 1934, 1938, 1950, 1954, 1958, 1962, 1966, 1970, 1974, 1978, 1982,\n",
    "             1986, 1990, 1994, 1998, 2002, 2006, 2010, 2014, 2018, 2022],\n",
    "    'Winners': ['Uruguay', 'Italy', 'Italy', 'Uruguay', 'Germany', 'Brazil', 'Brazil', 'England', \n",
    "                'Brazil', 'Germany', 'Argentina', 'Italy', 'Argentina', 'Germany', 'Brazil', \n",
    "                'France', 'Brazil', 'Italy', 'Spain', 'Germany', 'France', 'Argentina'],\n",
    "    'Runner_ups': ['Argentina', 'Czechoslovakia', 'Hungary', 'Brazil', 'Hungary', 'Sweden', \n",
    "                   'Czechoslovakia', 'Germany', 'Italy', 'Netherlands', 'Netherlands',\n",
    "                   'Germany', 'Germany', 'Argentina', 'Italy', 'Brazil', 'Germany',\n",
    "                   'France', 'Netherlands', 'Argentina', 'Croatia', 'France']\n",
    "})\n",
    "\n",
    "win_counts = df['Winners'].value_counts().reset_index()\n",
    "win_counts.columns = ['Country', 'Wins']\n",
    "\n",
    "fig1 = px.choropleth(\n",
    "    win_counts,\n",
    "    locations='Country',\n",
    "    locationmode='country names',\n",
    "    color='Wins',\n",
    "    color_continuous_scale=\"peach\",\n",
    "    scope='world',\n",
    "    title=\"World Cup Results\"\n",
    ")\n",
    "\n",
    "country_options = [{'label': country, 'value': country} for country in df['Winners'].unique()]\n",
    "year_options = [{'label': str(y), 'value': y} for y in sorted(df['Year'].unique())]\n",
    "\n",
    "\n",
    "app = dash.Dash(__name__)\n",
    "app.title = \"World Cup\"\n",
    "\n",
    "app.layout = html.Div([\n",
    "    html.H1(\"FIFA World Cup Results\"),\n",
    "    dcc.Graph(figure=fig1),\n",
    "\n",
    "    html.Div([\n",
    "        html.Label(\"Select a Country:\"),\n",
    "        dcc.Dropdown(\n",
    "            id='country-dropdown',\n",
    "            options=country_options,\n",
    "            value='Brazil'\n",
    "        ),\n",
    "        html.Div(id='win-output', style={'marginTop':'20px', 'fontSize':'20px'})\n",
    "    ], style={'width':'40%', 'margin':'auto', 'marginTop':'30px'}),\n",
    "\n",
    "    html.Div([\n",
    "        html.Label(\"Select a Year:\"),\n",
    "        dcc.Dropdown(\n",
    "            id='year-dropdown',\n",
    "            options=year_options,\n",
    "            value=2022\n",
    "        ),\n",
    "        html.Div(id='match-output', style={'marginTop':'20px', 'fontSize':'20px'})\n",
    "    ], style={'width':'40%', 'margin':'auto', 'marginTop':'30px'}),\n",
    "])\n",
    "\n",
    "@app.callback(\n",
    "    Output('match-output', 'children'),\n",
    "    Input('year-dropdown', 'value'),\n",
    ")\n",
    "\n",
    "def update_match_result(selected_year):\n",
    "    row = df[df['Year'] == selected_year]\n",
    "    if not row.empty:\n",
    "        winner = row.iloc[0]['Winners']\n",
    "        runner_up = row.iloc[0]['Runner_ups']\n",
    "        return f\"In the {selected_year} FIFA World Cup, the winner was {winner} and the runner-up was {runner_up}.\"\n",
    "    else:\n",
    "        return \"No data for that year.\"\n",
    "\n",
    "app.run(debug=True, port=8053)"
   ]
  },
  {
   "cell_type": "code",
   "execution_count": null,
   "id": "6dfb2a13-b20c-43f2-adac-f72b348a90bd",
   "metadata": {},
   "outputs": [],
   "source": []
  },
  {
   "cell_type": "code",
   "execution_count": null,
   "id": "fea893e9-a4d5-4bbe-9fcb-7bb06ef96ab2",
   "metadata": {},
   "outputs": [],
   "source": []
  }
 ],
 "metadata": {
  "kernelspec": {
   "display_name": "Python [conda env:base] *",
   "language": "python",
   "name": "conda-base-py"
  },
  "language_info": {
   "codemirror_mode": {
    "name": "ipython",
    "version": 3
   },
   "file_extension": ".py",
   "mimetype": "text/x-python",
   "name": "python",
   "nbconvert_exporter": "python",
   "pygments_lexer": "ipython3",
   "version": "3.12.7"
  }
 },
 "nbformat": 4,
 "nbformat_minor": 5
}
